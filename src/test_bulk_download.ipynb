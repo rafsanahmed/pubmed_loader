{
 "cells": [
  {
   "cell_type": "code",
   "execution_count": 8,
   "id": "786bea1d",
   "metadata": {},
   "outputs": [],
   "source": [
    "import requests\n",
    "import urllib.request\n",
    "import time\n",
    "from tqdm.notebook import tqdm, trange"
   ]
  },
  {
   "cell_type": "code",
   "execution_count": 10,
   "id": "efb7ad5e",
   "metadata": {},
   "outputs": [
    {
     "data": {
      "application/vnd.jupyter.widget-view+json": {
       "model_id": "3424fdd518394708a269ae0549bf360e",
       "version_major": 2,
       "version_minor": 0
      },
      "text/plain": [
       "  0%|          | 0/1766 [00:00<?, ?it/s]"
      ]
     },
     "metadata": {},
     "output_type": "display_data"
    }
   ],
   "source": [
    "for i in trange(1,1767):\n",
    "    url = f'https://data.lhncbc.nlm.nih.gov/public/ii/information/MBR/Baselines/2023/pubmed23n{i:04d}.xml.gz'\n",
    "    try:\n",
    "        urllib.request.urlretrieve(url, filename=f\"../data/tmp/pubmed23n{i:04d}.xml.gz\")\n",
    "    except:\n",
    "        continue\n",
    "    if i%3==0:\n",
    "        time.sleep(0.5)\n",
    "    if i == 10:\n",
    "        break"
   ]
  },
  {
   "cell_type": "code",
   "execution_count": 2,
   "id": "1deaaa19",
   "metadata": {},
   "outputs": [
    {
     "name": "stdout",
     "output_type": "stream",
     "text": [
      "0001\n",
      "0002\n",
      "0003\n",
      "0004\n",
      "0005\n",
      "0006\n",
      "0007\n",
      "0008\n",
      "0009\n",
      "0010\n",
      "0011\n",
      "0012\n",
      "0013\n",
      "0014\n",
      "0015\n",
      "0016\n",
      "0017\n",
      "0018\n",
      "0019\n",
      "0020\n",
      "0021\n",
      "0022\n",
      "0023\n",
      "0024\n",
      "0025\n",
      "0026\n",
      "0027\n",
      "0028\n",
      "0029\n",
      "0030\n",
      "0031\n",
      "0032\n",
      "0033\n",
      "0034\n",
      "0035\n",
      "0036\n",
      "0037\n",
      "0038\n",
      "0039\n",
      "0040\n",
      "0041\n",
      "0042\n",
      "0043\n",
      "0044\n",
      "0045\n",
      "0046\n",
      "0047\n",
      "0048\n",
      "0049\n",
      "0050\n",
      "0051\n",
      "0052\n",
      "0053\n",
      "0054\n",
      "0055\n",
      "0056\n",
      "0057\n",
      "0058\n",
      "0059\n",
      "0060\n",
      "0061\n",
      "0062\n",
      "0063\n",
      "0064\n",
      "0065\n",
      "0066\n",
      "0067\n",
      "0068\n",
      "0069\n",
      "0070\n",
      "0071\n",
      "0072\n",
      "0073\n",
      "0074\n",
      "0075\n",
      "0076\n",
      "0077\n",
      "0078\n",
      "0079\n",
      "0080\n",
      "0081\n",
      "0082\n",
      "0083\n",
      "0084\n",
      "0085\n",
      "0086\n",
      "0087\n",
      "0088\n",
      "0089\n",
      "0090\n",
      "0091\n",
      "0092\n",
      "0093\n",
      "0094\n",
      "0095\n",
      "0096\n",
      "0097\n",
      "0098\n",
      "0099\n"
     ]
    }
   ],
   "source": [
    "for i in range(1,100):\n",
    "    print(f\"{i:04d}\")"
   ]
  },
  {
   "cell_type": "code",
   "execution_count": null,
   "id": "9d73847a",
   "metadata": {},
   "outputs": [],
   "source": []
  }
 ],
 "metadata": {
  "kernelspec": {
   "display_name": "Python 3 (ipykernel)",
   "language": "python",
   "name": "python3"
  },
  "language_info": {
   "codemirror_mode": {
    "name": "ipython",
    "version": 3
   },
   "file_extension": ".py",
   "mimetype": "text/x-python",
   "name": "python",
   "nbconvert_exporter": "python",
   "pygments_lexer": "ipython3",
   "version": "3.8.5"
  }
 },
 "nbformat": 4,
 "nbformat_minor": 5
}
