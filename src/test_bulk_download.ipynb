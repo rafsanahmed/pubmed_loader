{
 "cells": [
  {
   "cell_type": "code",
   "execution_count": 24,
   "id": "786bea1d",
   "metadata": {},
   "outputs": [],
   "source": [
    "import requests\n",
    "import urllib.request\n",
    "import time\n",
    "from tqdm.notebook import tqdm, trange\n",
    "from glob import glob\n",
    "import re\n",
    "import os"
   ]
  },
  {
   "cell_type": "code",
   "execution_count": 10,
   "id": "efb7ad5e",
   "metadata": {},
   "outputs": [
    {
     "data": {
      "application/vnd.jupyter.widget-view+json": {
       "model_id": "3424fdd518394708a269ae0549bf360e",
       "version_major": 2,
       "version_minor": 0
      },
      "text/plain": [
       "  0%|          | 0/1766 [00:00<?, ?it/s]"
      ]
     },
     "metadata": {},
     "output_type": "display_data"
    }
   ],
   "source": [
    "for i in trange(1,1767):\n",
    "    url = f'https://data.lhncbc.nlm.nih.gov/public/ii/information/MBR/Baselines/2023/pubmed23n{i:04d}.xml.gz'\n",
    "    try:\n",
    "        urllib.request.urlretrieve(url, filename=f\"../data/tmp/pubmed23n{i:04d}.xml.gz\")\n",
    "    except:\n",
    "        continue\n",
    "    if i%3==0:\n",
    "        time.sleep(0.5)\n",
    "    if i == 10:\n",
    "        break"
   ]
  },
  {
   "cell_type": "markdown",
   "id": "f1ea70dc",
   "metadata": {},
   "source": [
    "## Test"
   ]
  },
  {
   "cell_type": "code",
   "execution_count": 55,
   "id": "1deaaa19",
   "metadata": {},
   "outputs": [],
   "source": [
    "folder_ = \"../res/abstracts/\"\n",
    "filelist = glob(folder_+ \"*json\")\n",
    "filelist.sort(key=lambda var:[int(x) for x in re.findall(r'\\d{4,}', var)])"
   ]
  },
  {
   "cell_type": "code",
   "execution_count": 56,
   "id": "e68ce636",
   "metadata": {},
   "outputs": [
    {
     "data": {
      "text/plain": [
       "['../res/abstracts\\\\pubmed23n0001.json',\n",
       " '../res/abstracts\\\\pubmed23n0002.json',\n",
       " '../res/abstracts\\\\pubmed23n00003.json',\n",
       " '../res/abstracts\\\\pubmed23n0043.json']"
      ]
     },
     "execution_count": 56,
     "metadata": {},
     "output_type": "execute_result"
    }
   ],
   "source": [
    "# [int(x) if x.isdigit() else x for x in re.findall(r'[^0-9]|[0-9]+', var)]\n",
    "filelist"
   ]
  },
  {
   "cell_type": "code",
   "execution_count": 27,
   "id": "b2d1f098",
   "metadata": {},
   "outputs": [
    {
     "data": {
      "text/plain": [
       "['0001']"
      ]
     },
     "execution_count": 27,
     "metadata": {},
     "output_type": "execute_result"
    }
   ],
   "source": [
    "test_filename = '../res/abstracts\\\\pubmed23n0001.json'\n",
    "pattern = \"\\d{4}\"\n",
    "re.findall(pattern, test_filename)"
   ]
  },
  {
   "cell_type": "code",
   "execution_count": null,
   "id": "37baf68c",
   "metadata": {},
   "outputs": [],
   "source": []
  },
  {
   "cell_type": "code",
   "execution_count": 4,
   "id": "9e8c44b9",
   "metadata": {},
   "outputs": [
    {
     "data": {
      "text/plain": [
       "[0, 10000]"
      ]
     },
     "execution_count": 4,
     "metadata": {},
     "output_type": "execute_result"
    }
   ],
   "source": [
    "l = [0,10000]\n",
    "l"
   ]
  },
  {
   "cell_type": "code",
   "execution_count": 68,
   "id": "ac82d17f",
   "metadata": {},
   "outputs": [],
   "source": [
    "def load_pre_batched_files(input_folder, limit=[0,100000000],k=\"n\"):\n",
    "    if limit==[0,100000000] or limit==\"ALL\":\n",
    "        return sorted(glob(f'{input_folder}*.json'), key=lambda x: int(os.path.splitext(os.path.basename(x))[0].split(k)[-1]))\n",
    "        \n",
    "    elif isinstance(limit,list):\n",
    "        \n",
    "        if len(limit)==2:\n",
    "            if limit[0]>limit[1]:\n",
    "                 raise Exception(\"Error! Make sure to enter in the format of [#,#] where # represents lower and upper limit numbers respectively\")\n",
    "            \n",
    "            all_files = sorted(glob(f'{input_folder}*.json'), key=lambda x: int(os.path.splitext(os.path.basename(x))[0].split(k)[-1]))\n",
    "            processed_files = []\n",
    "            for f in all_files:\n",
    "                fidx = int(os.path.splitext(os.path.basename(f))[0].split(k)[-1])\n",
    "                if fidx>=limit[0] and fidx<=limit[1]:\n",
    "                    processed_files.append(f)    \n",
    "            return processed_files\n",
    "        \n",
    "        else:\n",
    "            raise Exception(\"ERROR!! Invalid limit parameters. Make sure to enter in the format of [#,#] where # represents lower and upper limit numbers respectively\")\n",
    "    else:\n",
    "        raise Exception(\"ERROR! Invalid filename or limit parameter! Filename should match pubmed naming convention. Ex: pubmed23n0001.json\")\n"
   ]
  },
  {
   "cell_type": "code",
   "execution_count": 70,
   "id": "763ab138",
   "metadata": {},
   "outputs": [
    {
     "data": {
      "text/plain": [
       "['../res/abstracts\\\\pubmed23n0001.json',\n",
       " '../res/abstracts\\\\pubmed23n0002.json',\n",
       " '../res/abstracts\\\\pubmed23n00003.json']"
      ]
     },
     "execution_count": 70,
     "metadata": {},
     "output_type": "execute_result"
    }
   ],
   "source": [
    "path = \"../res/abstracts/\"\n",
    "x = load_pre_batched_files(path, limit=[-1,5])\n",
    "x"
   ]
  },
  {
   "cell_type": "code",
   "execution_count": 43,
   "id": "22cd2999",
   "metadata": {},
   "outputs": [
    {
     "name": "stdout",
     "output_type": "stream",
     "text": [
      "55\n"
     ]
    }
   ],
   "source": []
  },
  {
   "cell_type": "code",
   "execution_count": null,
   "id": "41a4ad35",
   "metadata": {},
   "outputs": [],
   "source": []
  }
 ],
 "metadata": {
  "kernelspec": {
   "display_name": "Python 3 (ipykernel)",
   "language": "python",
   "name": "python3"
  },
  "language_info": {
   "codemirror_mode": {
    "name": "ipython",
    "version": 3
   },
   "file_extension": ".py",
   "mimetype": "text/x-python",
   "name": "python",
   "nbconvert_exporter": "python",
   "pygments_lexer": "ipython3",
   "version": "3.8.5"
  }
 },
 "nbformat": 4,
 "nbformat_minor": 5
}
